{
  "nbformat": 4,
  "nbformat_minor": 0,
  "metadata": {
    "colab": {
      "name": " Downlaod ML Dataset in Google Colab from Kaggle.ipynb",
      "provenance": [],
      "authorship_tag": "ABX9TyNfwFjpwGn7+9f7LIVz9ZY4",
      "include_colab_link": true
    },
    "kernelspec": {
      "name": "python3",
      "display_name": "Python 3"
    },
    "language_info": {
      "name": "python"
    }
  },
  "cells": [
    {
      "cell_type": "markdown",
      "metadata": {
        "id": "view-in-github",
        "colab_type": "text"
      },
      "source": [
        "<a href=\"https://colab.research.google.com/github/raushan9jnv/DeepLearning-Projects/blob/main/Downlaod_ML_Dataset_in_Google_Colab_from_Kaggle.ipynb\" target=\"_parent\"><img src=\"https://colab.research.google.com/assets/colab-badge.svg\" alt=\"Open In Colab\"/></a>"
      ]
    },
    {
      "cell_type": "code",
      "metadata": {
        "id": "gnqjcXPfas8z"
      },
      "source": [
        "# First upload your kaggle.json file in google colab \n",
        "\n",
        "#then run this code"
      ],
      "execution_count": null,
      "outputs": []
    },
    {
      "cell_type": "code",
      "metadata": {
        "id": "J0UZQLfrYRko"
      },
      "source": [
        "!pip install -q kaggle"
      ],
      "execution_count": 1,
      "outputs": []
    },
    {
      "cell_type": "code",
      "metadata": {
        "id": "nu_sIZULYWoY"
      },
      "source": [
        "!mkdir -p ~/.kaggle"
      ],
      "execution_count": 2,
      "outputs": []
    },
    {
      "cell_type": "code",
      "metadata": {
        "id": "R7sSCdWZYWqm"
      },
      "source": [
        "!cp kaggle.json ~/.kaggle/"
      ],
      "execution_count": 3,
      "outputs": []
    },
    {
      "cell_type": "code",
      "metadata": {
        "id": "7tXIyNuOYWsp"
      },
      "source": [
        "!chmod 600 ~/.kaggle/kaggle.json"
      ],
      "execution_count": 4,
      "outputs": []
    },
    {
      "cell_type": "code",
      "metadata": {
        "colab": {
          "base_uri": "https://localhost:8080/"
        },
        "id": "O5bkezDNYWu-",
        "outputId": "d09c62ee-fe15-4435-9022-82727b1dcbd7"
      },
      "source": [
        "!kaggle competitions download -c dogs-vs-cats  # take this from kaggle dataset API...down below"
      ],
      "execution_count": 7,
      "outputs": [
        {
          "output_type": "stream",
          "name": "stdout",
          "text": [
            "Warning: Looks like you're using an outdated API Version, please consider updating (server 1.5.12 / client 1.5.4)\n",
            "Downloading test1.zip to /content\n",
            " 95% 258M/271M [00:01<00:00, 185MB/s]\n",
            "100% 271M/271M [00:01<00:00, 182MB/s]\n",
            "Downloading sampleSubmission.csv to /content\n",
            "  0% 0.00/86.8k [00:00<?, ?B/s]\n",
            "100% 86.8k/86.8k [00:00<00:00, 97.9MB/s]\n",
            "Downloading train.zip to /content\n",
            " 98% 532M/543M [00:03<00:00, 206MB/s]\n",
            "100% 543M/543M [00:03<00:00, 181MB/s]\n"
          ]
        }
      ]
    }
  ]
}