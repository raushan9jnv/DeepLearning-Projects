{
  "nbformat": 4,
  "nbformat_minor": 0,
  "metadata": {
    "colab": {
      "name": "Cats and Dogs Classification with use of drropout and batch normalizaton in 2D CNN .ipynb",
      "provenance": [],
      "authorship_tag": "ABX9TyNGj6RmijhxZTFRExDt5c1w",
      "include_colab_link": true
    },
    "kernelspec": {
      "name": "python3",
      "display_name": "Python 3"
    },
    "language_info": {
      "name": "python"
    }
  },
  "cells": [
    {
      "cell_type": "markdown",
      "metadata": {
        "id": "view-in-github",
        "colab_type": "text"
      },
      "source": [
        "<a href=\"https://colab.research.google.com/github/raushan9jnv/DeepLearning-Projects/blob/main/Cats%20and%20Dogs%20Classification/Cats_and_Dogs_Classification_with_use_of_drropout_and_batch_normalizaton_in_2D_CNN_.ipynb\" target=\"_parent\"><img src=\"https://colab.research.google.com/assets/colab-badge.svg\" alt=\"Open In Colab\"/></a>"
      ]
    },
    {
      "cell_type": "code",
      "metadata": {
        "colab": {
          "base_uri": "https://localhost:8080/"
        },
        "id": "wR0_qW5BR0uX",
        "outputId": "cf769cf2-abaf-4735-8a75-1f9a59791f1d"
      },
      "source": [
        "import tensorflow as tf\n",
        "from tensorflow import keras\n",
        "from tensorflow.keras import Sequential\n",
        "from tensorflow.keras.layers import Flatten, Dense, Conv2D, MaxPool2D,ZeroPadding2D,Dropout, BatchNormalization\n",
        "from tensorflow.keras.preprocessing.image import ImageDataGenerator\n",
        "\n",
        "from tensorflow.keras.optimizers import SGD\n",
        "\n",
        "print(tf.__version__)"
      ],
      "execution_count": 33,
      "outputs": [
        {
          "output_type": "stream",
          "name": "stdout",
          "text": [
            "2.6.0\n"
          ]
        }
      ]
    },
    {
      "cell_type": "code",
      "metadata": {
        "id": "TGJOflkUTcfp"
      },
      "source": [
        "import numpy as np\n",
        "import pandas as pd\n",
        "import matplotlib.pyplot as plt"
      ],
      "execution_count": 34,
      "outputs": []
    },
    {
      "cell_type": "code",
      "metadata": {
        "colab": {
          "base_uri": "https://localhost:8080/"
        },
        "id": "ROk4IIPnTciG",
        "outputId": "f76eae91-8b0a-425f-b272-f27e6a27a8e0"
      },
      "source": [
        "#uploading data from my github\n",
        "!git clone https://github.com/raushan9jnv/DeepLearning-Projects.git"
      ],
      "execution_count": 35,
      "outputs": [
        {
          "output_type": "stream",
          "name": "stdout",
          "text": [
            "fatal: destination path 'DeepLearning-Projects' already exists and is not an empty directory.\n"
          ]
        }
      ]
    },
    {
      "cell_type": "code",
      "metadata": {
        "id": "FFJwk54ZTckd"
      },
      "source": [
        " test_data_dir = '/content/DeepLearning-Projects/Cats and Dogs Classification/data/test'\n",
        " train_data_dir = '/content/DeepLearning-Projects/Cats and Dogs Classification/data/train'"
      ],
      "execution_count": 36,
      "outputs": []
    },
    {
      "cell_type": "code",
      "metadata": {
        "id": "Z4-pxNJVTcm7"
      },
      "source": [
        "img_width = 32\n",
        "img_height = 32\n",
        "batch_size = 20"
      ],
      "execution_count": 37,
      "outputs": []
    },
    {
      "cell_type": "code",
      "metadata": {
        "id": "95lKw2wZWHjI"
      },
      "source": [
        "datagen = ImageDataGenerator(rescale = 1./255.0)"
      ],
      "execution_count": 38,
      "outputs": []
    },
    {
      "cell_type": "code",
      "metadata": {
        "colab": {
          "base_uri": "https://localhost:8080/"
        },
        "id": "EhrFMSdpWHlU",
        "outputId": "65713db8-00c5-4016-bb66-d7b270619c96"
      },
      "source": [
        "train_generator = datagen.flow_from_directory(directory= train_data_dir,\n",
        "                                              target_size = (img_width, img_height),\n",
        "                                              classes = ['dogs', 'cats'],\n",
        "                                              class_mode = 'binary',\n",
        "                                              batch_size = batch_size)"
      ],
      "execution_count": 39,
      "outputs": [
        {
          "output_type": "stream",
          "name": "stdout",
          "text": [
            "Found 20000 images belonging to 2 classes.\n"
          ]
        }
      ]
    },
    {
      "cell_type": "code",
      "metadata": {
        "colab": {
          "base_uri": "https://localhost:8080/"
        },
        "id": "4NROXIn1WtHI",
        "outputId": "b13d897c-1948-467e-846e-dac90bc5f5e5"
      },
      "source": [
        "train_generator.classes"
      ],
      "execution_count": 40,
      "outputs": [
        {
          "output_type": "execute_result",
          "data": {
            "text/plain": [
              "array([0, 0, 0, ..., 1, 1, 1], dtype=int32)"
            ]
          },
          "metadata": {},
          "execution_count": 40
        }
      ]
    },
    {
      "cell_type": "code",
      "metadata": {
        "colab": {
          "base_uri": "https://localhost:8080/"
        },
        "id": "OSMASSiFWtJ0",
        "outputId": "a81b5d11-9d72-4712-9a30-ae40971e41a0"
      },
      "source": [
        "validation_generator = datagen.flow_from_directory(directory= test_data_dir,\n",
        "                                              target_size = (32,32),\n",
        "                                              classes = ['dogs', 'cats'],\n",
        "                                              class_mode = 'binary',\n",
        "                                              batch_size = batch_size)"
      ],
      "execution_count": 41,
      "outputs": [
        {
          "output_type": "stream",
          "name": "stdout",
          "text": [
            "Found 5000 images belonging to 2 classes.\n"
          ]
        }
      ]
    },
    {
      "cell_type": "code",
      "metadata": {
        "colab": {
          "base_uri": "https://localhost:8080/"
        },
        "id": "Ht_5JLHpYEc7",
        "outputId": "89eda19c-e9e2-424e-fca3-263317c2ed9f"
      },
      "source": [
        "len(train_generator)"
      ],
      "execution_count": 42,
      "outputs": [
        {
          "output_type": "execute_result",
          "data": {
            "text/plain": [
              "1000"
            ]
          },
          "metadata": {},
          "execution_count": 42
        }
      ]
    },
    {
      "cell_type": "code",
      "metadata": {
        "colab": {
          "base_uri": "https://localhost:8080/"
        },
        "id": "ZpC4SBZsYEfb",
        "outputId": "3d2a4ae9-d1dc-48c7-8148-c8dd9939f2b2"
      },
      "source": [
        "len(train_generator) * batch_size"
      ],
      "execution_count": 43,
      "outputs": [
        {
          "output_type": "execute_result",
          "data": {
            "text/plain": [
              "20000"
            ]
          },
          "metadata": {},
          "execution_count": 43
        }
      ]
    },
    {
      "cell_type": "markdown",
      "metadata": {
        "id": "V26uRt4wZIdR"
      },
      "source": [
        "## Build CNN Base model"
      ]
    },
    {
      "cell_type": "code",
      "metadata": {
        "id": "jJKqWPAtYEh4"
      },
      "source": [
        "model = Sequential()\n",
        "model.add((Conv2D(filters = 64, kernel_size=(3,3), activation = 'relu', padding = 'same', kernel_initializer='he_uniform', input_shape = (img_width, img_height,3))))\n",
        "model.add(MaxPool2D(2,2))\n",
        "\n",
        "model.add(Flatten())\n",
        "model.add(Dense(128, activation = 'relu', kernel_initializer='he_uniform'))\n",
        "model.add(Dense(1, activation= 'sigmoid'))"
      ],
      "execution_count": 44,
      "outputs": []
    },
    {
      "cell_type": "code",
      "metadata": {
        "id": "nNvcIugzWtML"
      },
      "source": [
        "opt = SGD(learning_rate=0.01, momentum = 0.9)\n",
        "model.compile(optimizer = opt, loss= 'binary_crossentropy', metrics = ['accuracy'])"
      ],
      "execution_count": 53,
      "outputs": []
    },
    {
      "cell_type": "code",
      "metadata": {
        "id": "pnoXX0IRqyRW"
      },
      "source": [
        "## note: Model.fit_generator is deprecated starting from tensorflow 2.1.0    \n",
        "# use this for help    https://www.tensorflow.org/versions/r2.1/api_docs/python/tf/keras/Model#fit\n",
        "history = model.fit_generator(generator=train_generator, steps_per_epoch = len(train_generator), epochs = 5, validation_data = validation_generator, validation_steps = len(validation_generator), verbose = 1)"
      ],
      "execution_count": null,
      "outputs": []
    },
    {
      "cell_type": "code",
      "metadata": {
        "id": "Xl14WX7qqyTx"
      },
      "source": [
        "history.history"
      ],
      "execution_count": null,
      "outputs": []
    },
    {
      "cell_type": "markdown",
      "metadata": {
        "id": "vsqYqozarzmY"
      },
      "source": [
        "### Impliment First 3 Blocks of VGG16 Model"
      ]
    },
    {
      "cell_type": "code",
      "metadata": {
        "id": "Usc3pPXdsEW6"
      },
      "source": [
        "model = Sequential()\n",
        "model.add((Conv2D(filters = 64, kernel_size=(3,3), activation = 'relu', padding = 'same', kernel_initializer='he_uniform', input_shape = (img_width, img_height,3))))\n",
        "model.add(MaxPool2D(2,2))\n",
        "\n",
        "model.add((Conv2D(filters = 128, kernel_size=(3,3), activation = 'relu', padding = 'same', kernel_initializer='he_uniform')))\n",
        "model.add(MaxPool2D(2,2))\n",
        "\n",
        "model.add((Conv2D(filters = 256, kernel_size=(3,3), activation = 'relu', padding = 'same', kernel_initializer='he_uniform')))\n",
        "model.add(MaxPool2D(2,2))\n",
        "\n",
        "model.add(Flatten())\n",
        "model.add(Dense(128, activation = 'relu', kernel_initializer='he_uniform'))\n",
        "\n",
        "model.add(Dense(1, activation= 'sigmoid'))"
      ],
      "execution_count": null,
      "outputs": []
    },
    {
      "cell_type": "code",
      "metadata": {
        "id": "vyLXjZ6bsEW8"
      },
      "source": [
        "opt = SGD(learning_rate=0.01, momentum = 0.9)\n",
        "model.compile(optimizer = opt, loss= 'binary_crossentropy', metrics = ['accuracy'])"
      ],
      "execution_count": null,
      "outputs": []
    },
    {
      "cell_type": "code",
      "metadata": {
        "id": "qnZtP7mvsEW9"
      },
      "source": [
        "history = model.fit(generator=train_generator, steps_per_epoch = len(train_generator), epochs = 5, validation_data = validation_generator, validation_steps = len(validation_generator), verbose = 1)"
      ],
      "execution_count": null,
      "outputs": []
    },
    {
      "cell_type": "markdown",
      "metadata": {
        "id": "D3cUjokxswAM"
      },
      "source": [
        "## Batch Normalization and Dropout"
      ]
    },
    {
      "cell_type": "code",
      "metadata": {
        "id": "yLJb7QzTs3XM"
      },
      "source": [
        "model = Sequential()\n",
        "model.add((Conv2D(filters = 64, kernel_size=(3,3), activation = 'relu', padding = 'same', kernel_initializer='he_uniform', input_shape = (img_width, img_height,3))))\n",
        "model.add(BatchNormalization())\n",
        "model.add(MaxPool2D(2,2))\n",
        "model.add(Dropout(0.2))\n",
        "\n",
        "model.add((Conv2D(filters = 128, kernel_size=(3,3), activation = 'relu', padding = 'same', kernel_initializer='he_uniform')))\n",
        "model.add(BatchNormalization())\n",
        "model.add(MaxPool2D(2,2))\n",
        "model.add(Dropout(0.3))\n",
        "\n",
        "model.add((Conv2D(filters = 256, kernel_size=(3,3), activation = 'relu', padding = 'same', kernel_initializer='he_uniform')))\n",
        "model.add(BatchNormalization())\n",
        "model.add(MaxPool2D(2,2))\n",
        "model.add(Dropout(0.5))\n",
        "\n",
        "model.add(Flatten())\n",
        "model.add(Dense(128, activation = 'relu', kernel_initializer='he_uniform'))\n",
        "model.add(BatchNormalization())\n",
        "model.add(Dropout(0.5))\n",
        "\n",
        "model.add(Dense(1, activation= 'sigmoid'))"
      ],
      "execution_count": null,
      "outputs": []
    },
    {
      "cell_type": "code",
      "metadata": {
        "id": "Q0QkV9c-s3XM"
      },
      "source": [
        "opt = SGD(learning_rate=0.01, momentum = 0.9)\n",
        "model.compile(optimizer = opt, loss= 'binary_crossentropy', metrics = ['accuracy'])"
      ],
      "execution_count": null,
      "outputs": []
    },
    {
      "cell_type": "code",
      "metadata": {
        "id": "IcNQ3V-9s3XM"
      },
      "source": [
        "history = model.fit(generator=train_generator, steps_per_epoch = len(train_generator), epochs = 5, validation_data = validation_generator, validation_steps = len(validation_generator), verbose = 1)"
      ],
      "execution_count": null,
      "outputs": []
    }
  ]
}